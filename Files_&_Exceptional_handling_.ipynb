{
  "nbformat": 4,
  "nbformat_minor": 0,
  "metadata": {
    "colab": {
      "provenance": []
    },
    "kernelspec": {
      "name": "python3",
      "display_name": "Python 3"
    },
    "language_info": {
      "name": "python"
    }
  },
  "cells": [
    {
      "cell_type": "markdown",
      "source": [
        "1-What is the difference between interpreted and compiled languages?\n",
        "\n",
        " - Python is considered an interpreted language because it executes code line by line at runtime which offers flexibility but can be slower than complied languages that execute pre-compiled machine code.\n",
        "\n",
        "\n",
        " 2-What is exception handling in Python?\n",
        "\n",
        "  - Exception handling in python is essential for creating robust programs. By using 'try', 'except', 'finally' and 'else' blocks you can manage errors effectively, allowing your program to continue running or to terminate gracefully when necessary. This enchances user experience and makes your code more reliable.\n",
        "\n",
        "\n",
        "3-What is the purpose of the finally block in exception handling?\n",
        "\n",
        "   - The finally block is essential that certain cleanup actions are always performed which helps maintain the integrity of your program and manage resources effectively.\n",
        "\n",
        "\n",
        "4-What is logging in Python?\n",
        "\n",
        " - Logging in python is a powerful tool for monitoring and debugging applications. It provides a systematic way to record events, making it easier to understand the program's behaviour and diagnose issues.\n",
        "\n",
        "\n",
        " 5-What is the significance of the __del__ method in Python?\n",
        "\n",
        " - The '__del__' method is significant for managing resorces and performing cleanup actions when an object is about to be destroyed. While it can be useful, it's important to be aware of its limitations and to consider alternative resource management strategies when appropriate.\n",
        "\n",
        "\n",
        " 6-What is the difference between import and from ... import in Python?\n",
        "\n",
        "  - Use 'import' when you want to include the entire module and keep its namespace amd use 'form import' when you only ned specific functions or classes and want to use them directly without the module prefix.\n",
        "\n",
        "\n",
        " 7-How can you handle multiple exceptions in Python?\n",
        "\n",
        "  - To handle multiple exceptions in python you can use seperate 'except' blocks foe each exception, combine multiple exceptions in a single block or catch all exceptions using a general 'except' statement.\n",
        "\n",
        "\n",
        "8-What is the purpose of the with statement when handling files in Python?\n",
        "\n",
        " - The 'with' statement is convenient way to manage file operations in python, ensuring that files are properly opened and closed, which helps prevent resources leaks and makes your code more rebust.\n",
        "\n",
        "\n",
        "9-What is the difference between multithreading and multiprocessing?\n",
        "\n",
        " - Use Multithreading for I/O-bound tasks where you need to wait for external resouces . Use Multiprocessing for CPU bound tasks that require heavy computation and can benefits from parallel execution across multiple CPU cores.\n",
        "\n",
        "\n",
        "10-What are the advantages of using logging in a program?\n",
        "\n",
        " - Logging enhances the reliability, maintainability and observability of your python programs making it a vaulable tool for developers.\n",
        "\n",
        "\n",
        "11-What is memory management in Python?\n",
        "\n",
        " -  Memory management in Python is designed to simplify the process for developers, allowing them to focus on building applications without worrying too much about memory allocation and deallocation. However, understanding how it works can help you write more efficient and effective code.\n",
        "\n",
        "\n",
        "12-What are the basic steps involved in exception handling in Python?\n",
        "\n",
        " - The basic steps of exception handling in Python are to use 'try' to attempt code execution, 'except' to catch and handle exceptions, and optionally 'else' and 'finally' for additional control flow.\n",
        "\n",
        "\n",
        "13-Why is memory management important in Python?\n",
        "\n",
        " -  Memory management is important in Python because it helps ensure efficient resource utilization, prevents memory leaks, optimizes performance, enhances stability and reliability, supports scalability, and works in conjunction with Python's garbage collection system. Proper memory management leads to better-performing and more robust applications.\n",
        "\n",
        "\n",
        "14-What is the role of try and except in exception handling?\n",
        "\n",
        " - The role of 'try' and 'except' are essential for managing exceptions in Python, allowing you to write robust and user-friendly applications that can handle unexpected errors without crashing.\n",
        "\n",
        "\n",
        "15- How does Python's garbage collection system work?\n",
        "\n",
        " -  Python's garbage collection system combines reference counting and a generational garbage collector to efficiently manage memory. This system helps ensure that memory is automatically freed when objects are no longer needed, reducing the risk of memory leaks and optimizing memory usage in your applications.\n",
        "\n",
        "\n",
        "16-What is the purpose of the else block in exception handling?\n",
        "\n",
        " - The 'else' block is a way to execute code that should run only when the 'try' block succeeds without any errors, helping to maintain clean and readable code.\n",
        "\n",
        "\n",
        "17-What are the common logging levels in Python?\n",
        "\n",
        " - We can configure the logging level in your application to control which messages are recorded. For example, if you set the logging level to 'WARNING', only messages at the 'WARNING', 'ERROR', and 'CRITICAL' levels will be logged.\n",
        "\n",
        "\n",
        "18-What is the difference between os.fork() and multiprocessing in Python?\n",
        "\n",
        " - 'os.fork()' is a lower-level approach to process creation that is specific to Unix-like systems, while 'multiprocessing' is a higher-level, cross-platform module that simplifies the creation and management of processes, along with providing better support for data sharing and communication between processes.\n",
        "\n",
        "\n",
        "19-What is the importance of closing a file in Python?\n",
        "\n",
        " - The file is closed automatically when the block under the 'with' statement is exited, ensuring proper resource management and data integrity.\n",
        "\n",
        "\n",
        "20-What is the difference between file.read() and file.readline() in Python?\n",
        "\n",
        " - Use 'file.read()' to read the entire file content at once. Use file.readline()' to read the file line by line, which is more memory-efficient for large files.\n",
        "\n",
        "\n",
        "21-What is the logging module in Python used for?\n",
        "\n",
        " - The logging configuration specifies that all messages at the DEBUG level and above will be displayed, along with a timestamp and the severity level of the message.\n",
        "\n",
        "\n",
        "22-What is the os module in Python used for in file handling?\n",
        "\n",
        " - we create a directory, change into it, create a file, list the contents, rename the file, and then clean up by deleting the file and directory. The 'os' module makes these file handling operations easy and efficient.\n",
        "\n",
        "\n",
        "23-What are the challenges associated with memory management in Python?\n",
        "\n",
        " - Python simplifies memory management through automatic garbage collection, developers still need to be aware of these challenges to write efficient and effective code. Monitoring memory usage, avoiding circular references, and using memory profiling tools can help mitigate some of these issues.\n",
        "\n",
        "\n",
        "24- How do you raise an exception manually in Python?\n",
        "\n",
        " - To raise an exception in Python, you use the 'raise' statement followed by the exception type (either built-in or custom) and an optional message. This allows you to handle errors gracefully and provide informative feedback when something goes wrong in your code.\n",
        "\n",
        "\n",
        "25-Why is it important to use multithreading in certain applications?\n",
        "\n",
        " -  Multithreading is crucial in applications where performance, responsiveness, resource sharing, and scalability are important. It allows developers to write applications that can handle multiple tasks simultaneously, leading to better user experiences and more efficient resource usage.         "
      ],
      "metadata": {
        "id": "oDQJW0QkcNp-"
      }
    },
    {
      "cell_type": "code",
      "execution_count": 1,
      "metadata": {
        "id": "fb39xrCLbXsD"
      },
      "outputs": [],
      "source": [
        "#1-How can you open a file for writing in Python and write a string to it?\n",
        "file = open('example.txt', 'w')\n",
        "file.write('Hello, World!')\n",
        "file.close()\n"
      ]
    },
    {
      "cell_type": "code",
      "source": [
        "#2-Write a Python program to read the contents of a file and print each line?\n",
        "with open('example.txt', 'r') as file:\n",
        "    for line in file:\n",
        "        print(line)"
      ],
      "metadata": {
        "colab": {
          "base_uri": "https://localhost:8080/"
        },
        "id": "xU_qUgUKReew",
        "outputId": "9992cb9b-4bb6-4d03-f262-f63ef62f37bc"
      },
      "execution_count": 2,
      "outputs": [
        {
          "output_type": "stream",
          "name": "stdout",
          "text": [
            "Hello, World!\n"
          ]
        }
      ]
    },
    {
      "cell_type": "code",
      "source": [
        "#3-How would you handle a case where the file doesn't exist while trying to open it for reading?\n",
        "try:\n",
        "    with open('nonexistent_file.txt', 'r') as file:\n",
        "        content = file.read()\n",
        "except FileNotFoundError:\n",
        "    print(\"The file does not exist.\")"
      ],
      "metadata": {
        "colab": {
          "base_uri": "https://localhost:8080/"
        },
        "id": "iUQ-Q9t2SEKW",
        "outputId": "b9c80b60-71a8-4eef-8eb8-4ef597be0779"
      },
      "execution_count": 3,
      "outputs": [
        {
          "output_type": "stream",
          "name": "stdout",
          "text": [
            "The file does not exist.\n"
          ]
        }
      ]
    },
    {
      "cell_type": "code",
      "source": [
        "#4- Write a Python script that reads from one file and writes its content to another file?\n",
        "source_file = 'example.txt'\n",
        "destination_file = 'destination.txt'\n",
        "\n",
        "with open(source_file, 'r') as source:\n",
        "    content = source.read()\n",
        "\n",
        "with open(destination_file, 'w') as destination:\n",
        "    destination.write(content)\n",
        "print(f'Content from {source_file}has been written to {destination_file}')\n"
      ],
      "metadata": {
        "colab": {
          "base_uri": "https://localhost:8080/"
        },
        "id": "dg3OHqtESLIY",
        "outputId": "9bf4e989-3922-44f4-bca8-51d6009ae999"
      },
      "execution_count": 5,
      "outputs": [
        {
          "output_type": "stream",
          "name": "stdout",
          "text": [
            "Content from example.txthas been written to destination.txt\n"
          ]
        }
      ]
    },
    {
      "cell_type": "code",
      "source": [
        "#5-How would you catch and handle division by zero error in Python?\n",
        "try:\n",
        "    result = 10 / 0\n",
        "except ZeroDivisionError:\n",
        "    print(\"Error: Division by zero\")"
      ],
      "metadata": {
        "colab": {
          "base_uri": "https://localhost:8080/"
        },
        "id": "vBh_p8XfSmfQ",
        "outputId": "d49cf3a1-56de-49a6-b28e-58253bb690dc"
      },
      "execution_count": 6,
      "outputs": [
        {
          "output_type": "stream",
          "name": "stdout",
          "text": [
            "Error: Division by zero\n"
          ]
        }
      ]
    },
    {
      "cell_type": "code",
      "source": [
        "#6-Write a Python program that logs an error message to a log file when a division by zero exception occurs?\n",
        "def divide(a, b):\n",
        "    try:\n",
        "        result = a / b\n",
        "    except ZeroDivisionError:\n",
        "        logging.error(\"Division by zero error occurred\")\n",
        "        print(\"Error: Division by zero\")\n"
      ],
      "metadata": {
        "id": "pWMQuyOdUUdv"
      },
      "execution_count": 8,
      "outputs": []
    },
    {
      "cell_type": "code",
      "source": [
        "#7- How do you log information at different levels (INFO, ERROR, WARNING) in Python using the logging module?\n",
        "def example_function():\n",
        "  try:\n",
        "    result = 10 / 0\n",
        "  except ZeroDivisionError:\n",
        "    logging.error(\"Division by zero error occurred\")\n",
        "    print(\"Error: Division by zero\")"
      ],
      "metadata": {
        "id": "r27MBzMDVgfL"
      },
      "execution_count": 12,
      "outputs": []
    },
    {
      "cell_type": "code",
      "source": [
        "#8-Write a program to handle a file opening error using exception handling\n",
        "try:\n",
        "    with open('nonexistent_file.txt', 'r') as file:\n",
        "        content = file.read()\n",
        "except FileNotFoundError:\n",
        "    print(\"Error: File not found\")"
      ],
      "metadata": {
        "colab": {
          "base_uri": "https://localhost:8080/"
        },
        "id": "JJ6hDX_gX-wd",
        "outputId": "79303df5-defa-4c2d-e7f3-fba767bb9dcf"
      },
      "execution_count": 13,
      "outputs": [
        {
          "output_type": "stream",
          "name": "stdout",
          "text": [
            "Error: File not found\n"
          ]
        }
      ]
    },
    {
      "cell_type": "code",
      "source": [
        "#9-How can you read a file line by line and store its content in a list in Python?\n",
        "with open('example.txt', 'r') as file:\n",
        "    lines = file.readlines()\n",
        "print(lines)\n"
      ],
      "metadata": {
        "colab": {
          "base_uri": "https://localhost:8080/"
        },
        "id": "gQbk108bYhfU",
        "outputId": "94dac038-e8d1-4d48-e04d-0cd7c1adc688"
      },
      "execution_count": 14,
      "outputs": [
        {
          "output_type": "stream",
          "name": "stdout",
          "text": [
            "['Hello, World!']\n"
          ]
        }
      ]
    },
    {
      "cell_type": "code",
      "source": [
        "#10-How can you append data to an existing file in Python?\n",
        "with open('example.txt', 'a') as file:\n",
        "    file.write('\\nAppended line')\n",
        "    print('Data appended to the file')"
      ],
      "metadata": {
        "colab": {
          "base_uri": "https://localhost:8080/"
        },
        "id": "_bTF9Xl3YubN",
        "outputId": "cd192548-fe4b-4191-c9ec-7920f44dea02"
      },
      "execution_count": 16,
      "outputs": [
        {
          "output_type": "stream",
          "name": "stdout",
          "text": [
            "Data appended to the file\n"
          ]
        }
      ]
    },
    {
      "cell_type": "code",
      "source": [
        "#11-Write a Python program that uses a try-except block to handle an error when attempting to access a dictionary key that doesn't exist?\n",
        "my_dict = {'a': 1, 'b': 2, 'c': 3}\n",
        "\n",
        "try:\n",
        "    value = my_dict['d']\n",
        "except KeyError:\n",
        "    print(\"Error: Key not found in the dictionary\")"
      ],
      "metadata": {
        "colab": {
          "base_uri": "https://localhost:8080/"
        },
        "id": "JVaIUpx8Y8-d",
        "outputId": "75300c72-1b6c-4e47-d481-02ba40c38640"
      },
      "execution_count": 17,
      "outputs": [
        {
          "output_type": "stream",
          "name": "stdout",
          "text": [
            "Error: Key not found in the dictionary\n"
          ]
        }
      ]
    },
    {
      "cell_type": "code",
      "source": [
        "#12-Write a program that demonstrates using multiple except blocks to handle different types of exceptions?\n",
        "try:\n",
        "    result = 10 / 0\n",
        "except ZeroDivisionError:\n",
        "    print(\"Error: Division by zero\")\n",
        "except ValueError:\n",
        "    print(\"Error: Invalid value\")"
      ],
      "metadata": {
        "colab": {
          "base_uri": "https://localhost:8080/"
        },
        "id": "fVL0zw1iZHtt",
        "outputId": "e35f7856-6df6-4f2e-9df4-25c86b21a734"
      },
      "execution_count": 18,
      "outputs": [
        {
          "output_type": "stream",
          "name": "stdout",
          "text": [
            "Error: Division by zero\n"
          ]
        }
      ]
    },
    {
      "cell_type": "code",
      "source": [
        "#13- How would you check if a file exists before attempting to read it in Python?\n",
        "import os\n",
        "\n",
        "file_path = 'example.txt'\n",
        "\n",
        "if os.path.exists(file_path):\n",
        "    with open(file_path, 'r') as file:\n",
        "        content = file.read()\n",
        "        print(content)"
      ],
      "metadata": {
        "colab": {
          "base_uri": "https://localhost:8080/"
        },
        "id": "-ElES8KYZQ19",
        "outputId": "19d86584-2f53-406a-a1c5-a0e7ea1f84bc"
      },
      "execution_count": 19,
      "outputs": [
        {
          "output_type": "stream",
          "name": "stdout",
          "text": [
            "Hello, World!\n",
            "Appended line\n",
            "Appended line\n"
          ]
        }
      ]
    },
    {
      "cell_type": "code",
      "source": [
        "#14-Write a program that uses the logging module to log both informational and error messages?\n",
        "import logging\n",
        "\n",
        "logging.basicConfig(level=logging.INFO)\n",
        "logging.info(\"This is an informational message\")\n",
        "\n",
        "logging.basicConfig(level=logging.ERROR)\n",
        "logging.error(\"This is an error message\")\n"
      ],
      "metadata": {
        "colab": {
          "base_uri": "https://localhost:8080/"
        },
        "id": "LxrOnu6UZasV",
        "outputId": "f8699ba5-cb48-4d5a-8120-04ccc468325a"
      },
      "execution_count": 20,
      "outputs": [
        {
          "output_type": "stream",
          "name": "stderr",
          "text": [
            "ERROR:root:This is an error message\n"
          ]
        }
      ]
    },
    {
      "cell_type": "code",
      "source": [
        "\n",
        "#15-Write a Python program that prints the content of a file and handles the case when the file is empty?\n",
        "try:\n",
        "    with open('example.txt', 'r') as file:\n",
        "        content = file.read()\n",
        "        if content:\n",
        "            print(content)\n",
        "        else:\n",
        "            print(\"The file is empty.\")\n",
        "except FileNotFoundError:\n",
        "    print(\"The file does not exist.\")"
      ],
      "metadata": {
        "colab": {
          "base_uri": "https://localhost:8080/"
        },
        "id": "Bgp8guI4ZmCF",
        "outputId": "09971882-3fdd-4535-f144-d32f0fc5f466"
      },
      "execution_count": 23,
      "outputs": [
        {
          "output_type": "stream",
          "name": "stdout",
          "text": [
            "Hello, World!\n",
            "Appended line\n",
            "Appended line\n"
          ]
        }
      ]
    },
    {
      "cell_type": "code",
      "source": [
        "#16-Demonstrate how to use memory profiling to check the memory usage of a small program?\n",
        "def memory_usage():\n",
        "    import psutil\n",
        "    process = psutil.Process()\n",
        "    memory_info = process.memory_info()\n",
        "    return memory_info.rss\n"
      ],
      "metadata": {
        "id": "z_c9IkeqZ1OE"
      },
      "execution_count": 25,
      "outputs": []
    },
    {
      "cell_type": "code",
      "source": [
        "#17 Write a Python program to create and write a list of numbers to a file, one number per line?\n",
        "numbers = [1, 2, 3, 4, 5]\n",
        "\n",
        "with open('numbers.txt', 'w') as file:\n",
        "    for number in numbers:\n",
        "        file.write(str(number) + '\\n')\n",
        "        print('List of numbers has been written to the file')"
      ],
      "metadata": {
        "colab": {
          "base_uri": "https://localhost:8080/"
        },
        "id": "m2ts9RqmbFv8",
        "outputId": "4aa32fab-2682-4085-fd2f-bf0dceb71917"
      },
      "execution_count": 27,
      "outputs": [
        {
          "output_type": "stream",
          "name": "stdout",
          "text": [
            "List of numbers has been written to the file\n",
            "List of numbers has been written to the file\n",
            "List of numbers has been written to the file\n",
            "List of numbers has been written to the file\n",
            "List of numbers has been written to the file\n"
          ]
        }
      ]
    },
    {
      "cell_type": "code",
      "source": [
        "#18- Write a program how would you implement a basic logging setup that logs to a file with rotation after 1MB?\n",
        "log_file = 'app.log'\n",
        "log_size = 1024 * 1024"
      ],
      "metadata": {
        "id": "kyG_ji87bMic"
      },
      "execution_count": 31,
      "outputs": []
    },
    {
      "cell_type": "code",
      "source": [
        "#!9-Write a program that handles both IndexError and KeyError using a try-except block?\n",
        "my_list = [1, 2, 3]\n",
        "\n",
        "try:\n",
        "    value = my_list[5]\n",
        "except IndexError:\n",
        "    print(\"Error: Index out of range\")"
      ],
      "metadata": {
        "colab": {
          "base_uri": "https://localhost:8080/"
        },
        "id": "n_yHUMIybZ-8",
        "outputId": "1402e792-aa59-411e-f69c-2cf3d7340e23"
      },
      "execution_count": 32,
      "outputs": [
        {
          "output_type": "stream",
          "name": "stdout",
          "text": [
            "Error: Index out of range\n"
          ]
        }
      ]
    },
    {
      "cell_type": "code",
      "source": [
        "#20-How would you open a file and read its contents using a context manager in Python?\n",
        "with open('example.txt', 'r') as file:\n",
        "    content = file.read()\n",
        "    print(content)"
      ],
      "metadata": {
        "colab": {
          "base_uri": "https://localhost:8080/"
        },
        "id": "G2fdckBxcLYL",
        "outputId": "12ef84d7-3327-4d91-bed6-bc9adb4660e9"
      },
      "execution_count": 33,
      "outputs": [
        {
          "output_type": "stream",
          "name": "stdout",
          "text": [
            "Hello, World!\n",
            "Appended line\n",
            "Appended line\n"
          ]
        }
      ]
    },
    {
      "cell_type": "code",
      "source": [
        "#21-Write a Python program that reads a file and prints the number of occurrences of a specific word?\n",
        "word_to_count = 'Hello'\n",
        "\n",
        "with open('example.txt', 'r') as file:\n",
        "    content = file.read()\n",
        "    word_count = content.count(word_to_count)\n",
        "    print(f\"The word '{word_to_count}' appears {word_count} times in the file.\")"
      ],
      "metadata": {
        "colab": {
          "base_uri": "https://localhost:8080/"
        },
        "id": "D_cLr2--cb8s",
        "outputId": "ff2361c3-60ac-463c-fee7-d0d5ef94b331"
      },
      "execution_count": 35,
      "outputs": [
        {
          "output_type": "stream",
          "name": "stdout",
          "text": [
            "The word 'Hello' appears 1 times in the file.\n"
          ]
        }
      ]
    },
    {
      "cell_type": "code",
      "source": [
        "#22-How can you check if a file is empty before attempting to read its contents?\n",
        "with open('example.txt', 'r') as file:\n",
        "    content = file.read()\n",
        "    if content:\n",
        "        print(content)\n",
        "    else:\n",
        "        print(\"The file is empty.\")"
      ],
      "metadata": {
        "colab": {
          "base_uri": "https://localhost:8080/"
        },
        "id": "uE1YXBA9chnj",
        "outputId": "a32cb914-e4a9-4696-815b-dfa41724f873"
      },
      "execution_count": 36,
      "outputs": [
        {
          "output_type": "stream",
          "name": "stdout",
          "text": [
            "Hello, World!\n",
            "Appended line\n",
            "Appended line\n"
          ]
        }
      ]
    },
    {
      "cell_type": "code",
      "source": [
        "#23-Write a Python program that writes to a log file when an error occurs during file handling\n",
        "import logging\n",
        "\n",
        "try:\n",
        "    with open('nonexistent_file.txt', 'r') as file:\n",
        "        content = file.read()\n",
        "except FileNotFoundError:\n",
        "    logging.error(\"File not found error occurred\")"
      ],
      "metadata": {
        "colab": {
          "base_uri": "https://localhost:8080/"
        },
        "id": "TjSqXsjJcwNL",
        "outputId": "bff1b240-aab5-4bc1-b123-c8334b9dba3c"
      },
      "execution_count": 37,
      "outputs": [
        {
          "output_type": "stream",
          "name": "stderr",
          "text": [
            "ERROR:root:File not found error occurred\n"
          ]
        }
      ]
    },
    {
      "cell_type": "code",
      "source": [],
      "metadata": {
        "id": "KZALmnhqc2dz"
      },
      "execution_count": null,
      "outputs": []
    }
  ]
}